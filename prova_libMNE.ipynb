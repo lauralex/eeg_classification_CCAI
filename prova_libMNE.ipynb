{
 "nbformat": 4,
 "nbformat_minor": 0,
 "metadata": {
  "colab": {
   "name": "prova_libMNE.ipynb",
   "provenance": []
  },
  "kernelspec": {
   "name": "python3",
   "display_name": "Python 3"
  },
  "language_info": {
   "name": "python"
  }
 },
 "cells": [
  {
   "cell_type": "code",
   "execution_count": 1,
   "metadata": {
    "colab": {
     "base_uri": "https://localhost:8080/"
    },
    "id": "_FmiTUQcD4jh",
    "outputId": "40cf949e-a9aa-4ba6-a4e3-bcf37242a11b",
    "pycharm": {
     "name": "#%%\n"
    }
   },
   "outputs": [
    {
     "output_type": "stream",
     "name": "stdout",
     "text": [
      "Mounted at /content/drive\n"
     ]
    }
   ],
   "source": [
    "from google.colab import drive\n",
    "drive.mount('/content/drive')"
   ]
  },
  {
   "cell_type": "code",
   "source": [
    "cd drive"
   ],
   "metadata": {
    "colab": {
     "base_uri": "https://localhost:8080/"
    },
    "id": "3hG3ccPHEpQK",
    "outputId": "2fe70abc-2983-4b5c-ddc0-3ee8d2e90a4d",
    "pycharm": {
     "name": "#%%\n"
    }
   },
   "execution_count": 2,
   "outputs": [
    {
     "output_type": "stream",
     "name": "stdout",
     "text": [
      "/content/drive\n"
     ]
    }
   ]
  },
  {
   "cell_type": "code",
   "source": [
    "cd MyDrive/"
   ],
   "metadata": {
    "colab": {
     "base_uri": "https://localhost:8080/"
    },
    "id": "tbuXX30tE0gS",
    "outputId": "98f42b1f-6cfa-4e48-d657-fe47c0cd91da",
    "pycharm": {
     "name": "#%%\n"
    }
   },
   "execution_count": 3,
   "outputs": [
    {
     "output_type": "stream",
     "name": "stdout",
     "text": [
      "/content/drive/MyDrive\n"
     ]
    }
   ]
  },
  {
   "cell_type": "code",
   "source": [
    "cd eeg_visual_classification-main"
   ],
   "metadata": {
    "colab": {
     "base_uri": "https://localhost:8080/"
    },
    "id": "PUmn2np7E2cE",
    "outputId": "73526a98-89af-49e7-df1a-c97a17260e85",
    "pycharm": {
     "name": "#%%\n"
    }
   },
   "execution_count": 4,
   "outputs": [
    {
     "output_type": "stream",
     "name": "stdout",
     "text": [
      "/content/drive/MyDrive/eeg_visual_classification-main\n"
     ]
    }
   ]
  },
  {
   "cell_type": "code",
   "source": [
    "ls"
   ],
   "metadata": {
    "colab": {
     "base_uri": "https://localhost:8080/"
    },
    "id": "QPS_4DwTE9Rr",
    "outputId": "5fe78763-dca7-4eb8-badc-99400a8c0af2",
    "pycharm": {
     "name": "#%%\n"
    }
   },
   "execution_count": 5,
   "outputs": [
    {
     "output_type": "stream",
     "name": "stdout",
     "text": [
      "\u001B[0m\u001B[01;34mdata\u001B[0m/                                  lstm__subject0_epoch_200.pth\n",
      "EEGChannelNet__subject0_epoch_100.pth  \u001B[01;34mmodels\u001B[0m/\n",
      "eeg_signal_classification.py           model_state_dict.pt\n",
      "layers.py                              \u001B[01;34m__pycache__\u001B[0m/\n",
      "lstm__subject0_epoch_100.pth           README.md\n"
     ]
    }
   ]
  },
  {
   "cell_type": "code",
   "source": [
    "import os\n",
    "import numpy as np\n",
    "import mne"
   ],
   "metadata": {
    "id": "Xy-xQZwEE_da",
    "pycharm": {
     "name": "#%%\n"
    }
   },
   "execution_count": 8,
   "outputs": []
  },
  {
   "cell_type": "code",
   "source": [
    "!pip install mne"
   ],
   "metadata": {
    "colab": {
     "base_uri": "https://localhost:8080/"
    },
    "id": "i3ysH6iSFiSL",
    "outputId": "9a053fec-4778-4665-9c59-a9f7b8972011",
    "pycharm": {
     "name": "#%%\n"
    }
   },
   "execution_count": 7,
   "outputs": [
    {
     "output_type": "stream",
     "name": "stdout",
     "text": [
      "Looking in indexes: https://pypi.org/simple, https://us-python.pkg.dev/colab-wheels/public/simple/\n",
      "Collecting mne\n",
      "  Downloading mne-1.0.3-py3-none-any.whl (7.5 MB)\n",
      "\u001B[K     |████████████████████████████████| 7.5 MB 5.2 MB/s \n",
      "\u001B[?25hRequirement already satisfied: numpy>=1.15.4 in /usr/local/lib/python3.7/dist-packages (from mne) (1.21.6)\n",
      "Requirement already satisfied: scipy>=1.1.0 in /usr/local/lib/python3.7/dist-packages (from mne) (1.4.1)\n",
      "Requirement already satisfied: jinja2 in /usr/local/lib/python3.7/dist-packages (from mne) (2.11.3)\n",
      "Requirement already satisfied: pooch>=1.5 in /usr/local/lib/python3.7/dist-packages (from mne) (1.6.0)\n",
      "Requirement already satisfied: matplotlib in /usr/local/lib/python3.7/dist-packages (from mne) (3.2.2)\n",
      "Requirement already satisfied: tqdm in /usr/local/lib/python3.7/dist-packages (from mne) (4.64.0)\n",
      "Requirement already satisfied: packaging in /usr/local/lib/python3.7/dist-packages (from mne) (21.3)\n",
      "Requirement already satisfied: decorator in /usr/local/lib/python3.7/dist-packages (from mne) (4.4.2)\n",
      "Requirement already satisfied: requests>=2.19.0 in /usr/local/lib/python3.7/dist-packages (from pooch>=1.5->mne) (2.23.0)\n",
      "Requirement already satisfied: appdirs>=1.3.0 in /usr/local/lib/python3.7/dist-packages (from pooch>=1.5->mne) (1.4.4)\n",
      "Requirement already satisfied: pyparsing!=3.0.5,>=2.0.2 in /usr/local/lib/python3.7/dist-packages (from packaging->mne) (3.0.9)\n",
      "Requirement already satisfied: idna<3,>=2.5 in /usr/local/lib/python3.7/dist-packages (from requests>=2.19.0->pooch>=1.5->mne) (2.10)\n",
      "Requirement already satisfied: certifi>=2017.4.17 in /usr/local/lib/python3.7/dist-packages (from requests>=2.19.0->pooch>=1.5->mne) (2022.6.15)\n",
      "Requirement already satisfied: urllib3!=1.25.0,!=1.25.1,<1.26,>=1.21.1 in /usr/local/lib/python3.7/dist-packages (from requests>=2.19.0->pooch>=1.5->mne) (1.24.3)\n",
      "Requirement already satisfied: chardet<4,>=3.0.2 in /usr/local/lib/python3.7/dist-packages (from requests>=2.19.0->pooch>=1.5->mne) (3.0.4)\n",
      "Requirement already satisfied: MarkupSafe>=0.23 in /usr/local/lib/python3.7/dist-packages (from jinja2->mne) (2.0.1)\n",
      "Requirement already satisfied: kiwisolver>=1.0.1 in /usr/local/lib/python3.7/dist-packages (from matplotlib->mne) (1.4.3)\n",
      "Requirement already satisfied: python-dateutil>=2.1 in /usr/local/lib/python3.7/dist-packages (from matplotlib->mne) (2.8.2)\n",
      "Requirement already satisfied: cycler>=0.10 in /usr/local/lib/python3.7/dist-packages (from matplotlib->mne) (0.11.0)\n",
      "Requirement already satisfied: typing-extensions in /usr/local/lib/python3.7/dist-packages (from kiwisolver>=1.0.1->matplotlib->mne) (4.1.1)\n",
      "Requirement already satisfied: six>=1.5 in /usr/local/lib/python3.7/dist-packages (from python-dateutil>=2.1->matplotlib->mne) (1.15.0)\n",
      "Installing collected packages: mne\n",
      "Successfully installed mne-1.0.3\n"
     ]
    }
   ]
  },
  {
   "cell_type": "code",
   "source": [
    "ls"
   ],
   "metadata": {
    "colab": {
     "base_uri": "https://localhost:8080/"
    },
    "id": "UGux4sL4HKxb",
    "outputId": "e444f59a-4f91-40d1-d1d1-bd8e5b9abd22",
    "pycharm": {
     "name": "#%%\n"
    }
   },
   "execution_count": 9,
   "outputs": [
    {
     "output_type": "stream",
     "name": "stdout",
     "text": [
      "\u001B[0m\u001B[01;34mdata\u001B[0m/                                  lstm__subject0_epoch_200.pth\n",
      "EEGChannelNet__subject0_epoch_100.pth  \u001B[01;34mmodels\u001B[0m/\n",
      "eeg_signal_classification.py           model_state_dict.pt\n",
      "layers.py                              \u001B[01;34m__pycache__\u001B[0m/\n",
      "lstm__subject0_epoch_100.pth           README.md\n"
     ]
    }
   ]
  },
  {
   "cell_type": "code",
   "source": [
    "!pip install pymatreader"
   ],
   "metadata": {
    "colab": {
     "base_uri": "https://localhost:8080/"
    },
    "id": "JMnKNRT3KEIv",
    "outputId": "c0797674-4793-45bf-a122-5650bc1e7088",
    "pycharm": {
     "name": "#%%\n"
    }
   },
   "execution_count": 10,
   "outputs": [
    {
     "output_type": "stream",
     "name": "stdout",
     "text": [
      "Looking in indexes: https://pypi.org/simple, https://us-python.pkg.dev/colab-wheels/public/simple/\n",
      "Collecting pymatreader\n",
      "  Downloading pymatreader-0.0.30-py3-none-any.whl (9.0 kB)\n",
      "Requirement already satisfied: numpy in /usr/local/lib/python3.7/dist-packages (from pymatreader) (1.21.6)\n",
      "Requirement already satisfied: future in /usr/local/lib/python3.7/dist-packages (from pymatreader) (0.16.0)\n",
      "Requirement already satisfied: h5py in /usr/local/lib/python3.7/dist-packages (from pymatreader) (3.1.0)\n",
      "Requirement already satisfied: scipy!=1.7.0 in /usr/local/lib/python3.7/dist-packages (from pymatreader) (1.4.1)\n",
      "Collecting xmltodict\n",
      "  Downloading xmltodict-0.13.0-py2.py3-none-any.whl (10.0 kB)\n",
      "Requirement already satisfied: cached-property in /usr/local/lib/python3.7/dist-packages (from h5py->pymatreader) (1.5.2)\n",
      "Installing collected packages: xmltodict, pymatreader\n",
      "Successfully installed pymatreader-0.0.30 xmltodict-0.13.0\n"
     ]
    }
   ]
  },
  {
   "cell_type": "code",
   "source": [
    "import pymatreader"
   ],
   "metadata": {
    "id": "SLd1SugjKJC8",
    "pycharm": {
     "name": "#%%\n"
    }
   },
   "execution_count": 11,
   "outputs": []
  },
  {
   "cell_type": "code",
   "source": [
    "cd ..\n"
   ],
   "metadata": {
    "colab": {
     "base_uri": "https://localhost:8080/"
    },
    "id": "xNRUDZqNvrXj",
    "outputId": "66149468-5829-42c3-e6ee-719a72ae9dff",
    "pycharm": {
     "name": "#%%\n"
    }
   },
   "execution_count": 13,
   "outputs": [
    {
     "output_type": "stream",
     "name": "stdout",
     "text": [
      "/content/drive/MyDrive\n"
     ]
    }
   ]
  },
  {
   "cell_type": "code",
   "source": [
    "cd mne_data"
   ],
   "metadata": {
    "colab": {
     "base_uri": "https://localhost:8080/"
    },
    "id": "gXyoPoK4vvsH",
    "outputId": "59bce1e9-8461-41a8-a008-329958534b97",
    "pycharm": {
     "name": "#%%\n"
    }
   },
   "execution_count": 19,
   "outputs": [
    {
     "output_type": "stream",
     "name": "stdout",
     "text": [
      "/content/drive/MyDrive/root/mne_data\n"
     ]
    }
   ]
  },
  {
   "cell_type": "code",
   "source": [
    "cd MNE-testing-data"
   ],
   "metadata": {
    "colab": {
     "base_uri": "https://localhost:8080/"
    },
    "id": "c2u1bm_BwUGg",
    "outputId": "65224fcf-91b0-4f0c-b235-90e881b774c0",
    "pycharm": {
     "name": "#%%\n"
    }
   },
   "execution_count": 20,
   "outputs": [
    {
     "output_type": "stream",
     "name": "stdout",
     "text": [
      "/content/drive/MyDrive/root/mne_data/MNE-testing-data\n"
     ]
    }
   ]
  },
  {
   "cell_type": "code",
   "source": [
    "cd EEGLAB"
   ],
   "metadata": {
    "colab": {
     "base_uri": "https://localhost:8080/"
    },
    "id": "878WmXrawX1w",
    "outputId": "93c28b94-3c36-4fc9-d05d-fedb6ac1e292",
    "pycharm": {
     "name": "#%%\n"
    }
   },
   "execution_count": 21,
   "outputs": [
    {
     "output_type": "stream",
     "name": "stdout",
     "text": [
      "/content/drive/MyDrive/root/mne_data/MNE-testing-data/EEGLAB\n"
     ]
    }
   ]
  },
  {
   "cell_type": "markdown",
   "source": [
    "Prova relativa alla concatenazione dei dati di un singolo paziente"
   ],
   "metadata": {
    "id": "xABCOs3j_V4c",
    "pycharm": {
     "name": "#%% md\n"
    }
   }
  },
  {
   "cell_type": "code",
   "source": [
    "import numpy\n",
    "testing_data_folder = mne.datasets.testing.data_path()\n",
    "\n",
    "eeglab_raw_file1 = os.path.join(testing_data_folder, 'EEGLAB', 'sub-010002_EC.set')\n",
    "eeglab_raw1 = mne.io.read_raw_eeglab('sub-010002_EC.set')\n",
    "\n",
    "eeglab_raw_file2 = os.path.join(testing_data_folder, 'EEGLAB', 'sub-010002_EO.set')\n",
    "eeglab_raw2 = mne.io.read_raw_eeglab('sub-010002_EO.set')\n",
    "\n",
    "e1 = eeglab_raw1.get_data()\n",
    "e2 = eeglab_raw2.get_data()\n",
    "\n",
    "#print(e1.shape)\n",
    "#print(e2.shape)\n",
    "\n",
    "e12 = numpy.concatenate((e1, e2), axis=1)\n",
    "print(e12)\n",
    "#print(e12.shape)\n",
    "print(\"@@@@@@@@@@@@@@@@@@@@@@@@@@@@@@@@@@@@@\")\n",
    "\n",
    "e12 = (e12 - e12.mean())/e12.std()\n",
    "print(e12)\n",
    "\n"
   ],
   "metadata": {
    "colab": {
     "base_uri": "https://localhost:8080/"
    },
    "id": "ta5oeMehF92E",
    "outputId": "e75b0f62-5e40-45f9-e1d2-9e9a86af4869",
    "pycharm": {
     "name": "#%%\n"
    }
   },
   "execution_count": 47,
   "outputs": [
    {
     "output_type": "stream",
     "name": "stdout",
     "text": [
      "Reading /content/drive/MyDrive/root/mne_data/MNE-testing-data/EEGLAB/sub-010002_EC.fdt\n",
      "Reading /content/drive/MyDrive/root/mne_data/MNE-testing-data/EEGLAB/sub-010002_EO.fdt\n"
     ]
    },
    {
     "output_type": "stream",
     "name": "stderr",
     "text": [
      "<ipython-input-47-e8592a2b610e>:5: RuntimeWarning: Limited 1 annotation(s) that were expanding outside the data range.\n",
      "  eeglab_raw1 = mne.io.read_raw_eeglab('sub-010002_EC.set')\n",
      "<ipython-input-47-e8592a2b610e>:5: RuntimeWarning: The data contains 'boundary' events, indicating data discontinuities. Be cautious of filtering and epoching around these events.\n",
      "  eeglab_raw1 = mne.io.read_raw_eeglab('sub-010002_EC.set')\n",
      "<ipython-input-47-e8592a2b610e>:8: RuntimeWarning: Limited 1 annotation(s) that were expanding outside the data range.\n",
      "  eeglab_raw2 = mne.io.read_raw_eeglab('sub-010002_EO.set')\n",
      "<ipython-input-47-e8592a2b610e>:8: RuntimeWarning: The data contains 'boundary' events, indicating data discontinuities. Be cautious of filtering and epoching around these events.\n",
      "  eeglab_raw2 = mne.io.read_raw_eeglab('sub-010002_EO.set')\n"
     ]
    },
    {
     "output_type": "stream",
     "name": "stdout",
     "text": [
      "[[ 3.40185380e-06 -1.15108478e-06 -3.05285215e-06 ... -2.85511231e-06\n",
      "   8.14213848e-06  9.54776764e-06]\n",
      " [ 2.23387265e-06  2.42891002e-06 -1.71568549e-06 ... -3.52399921e-06\n",
      "  -8.18265736e-07  1.03644502e-06]\n",
      " [-3.92220187e-06 -5.43169308e-06 -7.98797464e-06 ... -3.63588428e-06\n",
      "  -1.00568819e-06  2.15014720e-06]\n",
      " ...\n",
      " [-9.06954002e-06 -1.13523130e-05 -1.27948065e-05 ...  1.97264302e-06\n",
      "   1.92698097e-06  4.08256739e-07]\n",
      " [-6.15342760e-06 -4.73464394e-06 -4.12048912e-06 ... -3.47074986e-07\n",
      "  -1.11105037e-06 -2.46563697e-06]\n",
      " [-2.96153688e-06 -6.27886891e-07 -1.67830978e-08 ... -8.54219615e-07\n",
      "  -1.67809880e-06 -2.45081997e-06]]\n",
      "@@@@@@@@@@@@@@@@@@@@@@@@@@@@@@@@@@@@@\n",
      "[[ 0.5594023  -0.18914436 -0.50181311 ... -0.46930279  1.33875045\n",
      "   1.56984933]\n",
      " [ 0.36737502  0.39944103 -0.28197012 ... -0.5792742  -0.13442573\n",
      "   0.17050646]\n",
      " [-0.64474253 -0.89291732 -1.31319447 ... -0.59766917 -0.16523977\n",
      "   0.35360976]\n",
      " ...\n",
      " [-1.49101416 -1.86632389 -2.10348361 ...  0.32442637  0.31691909\n",
      "   0.0672263 ]\n",
      " [-1.01157738 -0.77831577 -0.67734285 ... -0.05695746 -0.18256232\n",
      "  -0.40526932]\n",
      " [-0.48680001 -0.10312563 -0.00265432 ... -0.14033689 -0.27579051\n",
      "  -0.40283326]]\n"
     ]
    }
   ]
  },
  {
   "cell_type": "markdown",
   "source": [
    "Ciclo su tutti i pazienti (2-3-4)"
   ],
   "metadata": {
    "id": "ukSHgK17_c7X",
    "pycharm": {
     "name": "#%% md\n"
    }
   }
  },
  {
   "cell_type": "code",
   "source": [
    "ls"
   ],
   "metadata": {
    "colab": {
     "base_uri": "https://localhost:8080/"
    },
    "id": "TjAugHfyBdDz",
    "outputId": "9603ec4c-af52-45f4-e86d-7b6d0301b732",
    "pycharm": {
     "name": "#%%\n"
    }
   },
   "execution_count": 49,
   "outputs": [
    {
     "output_type": "stream",
     "name": "stdout",
     "text": [
      "sub-010002_EC.fdt  sub-010002_EO.set  sub-010003_EO.fdt  sub-010004_EC.set\n",
      "sub-010002_EC.set  sub-010003_EC.fdt  sub-010003_EO.set  sub-010004_EO.fdt\n",
      "sub-010002_EO.fdt  sub-010003_EC.set  sub-010004_EC.fdt  sub-010004_EO.set\n"
     ]
    }
   ]
  },
  {
   "cell_type": "code",
   "source": [
    "import numpy\n",
    "import os\n",
    "testing_data_folder = mne.datasets.testing.data_path()\n",
    "\n",
    "filename_list = list()\n",
    "suffisso = 'set'\n",
    "for filename in os.listdir(\"/content/drive/My Drive/root/mne_data/MNE-testing-data/EEGLAB\"):\n",
    "  sp = filename.split('.')\n",
    "  #sp1 = sp[0]\n",
    "  sp2 = sp[1]\n",
    "  if(sp2 == suffisso):\n",
    "    filename_list.append(filename)\n",
    "\n",
    "#for file in filename_list:\n",
    "#  print(file)\n",
    "\n",
    "i = 0\n",
    "dati_std = list()\n",
    "while i < len(filename_list):\n",
    "  t1 = filename_list[i]\n",
    "  t2 = filename_list[i+1]\n",
    "  print(t1)\n",
    "  print(t2)\n",
    "  i = i + 2\n",
    "\n",
    "  eeglab_raw_file1 = os.path.join(testing_data_folder, 'EEGLAB', t1)\n",
    "  eeglab_raw1 = mne.io.read_raw_eeglab(t1)\n",
    "\n",
    "  eeglab_raw_file2 = os.path.join(testing_data_folder, 'EEGLAB', t2)\n",
    "  eeglab_raw2 = mne.io.read_raw_eeglab(t2)\n",
    "\n",
    "  e1 = eeglab_raw1.get_data()\n",
    "  e2 = eeglab_raw2.get_data()\n",
    " \n",
    "  print(e1.shape)\n",
    "  print(e2.shape)\n",
    "  \n",
    "  #e12 = numpy.concatenate((e1, e2), axis=1)\n",
    "\n",
    "  #e12 = (e12 - e12.mean())/e12.std()\n",
    "\n",
    "  #dati_std.append(e12)\n",
    "\n",
    "#for e in dati_std:\n",
    "  #print(e)\n",
    "  #print(\"-------------------\")\n"
   ],
   "metadata": {
    "colab": {
     "base_uri": "https://localhost:8080/"
    },
    "id": "ujeUTHzq_Q-r",
    "outputId": "04a0b808-433f-4f89-b777-4b1f7b0dd8c5",
    "pycharm": {
     "name": "#%%\n"
    }
   },
   "execution_count": 65,
   "outputs": [
    {
     "output_type": "stream",
     "name": "stdout",
     "text": [
      "sub-010002_EC.set\n",
      "sub-010002_EO.set\n",
      "Reading /content/drive/My Drive/root/mne_data/MNE-testing-data/EEGLAB/sub-010002_EC.fdt\n",
      "Reading /content/drive/My Drive/root/mne_data/MNE-testing-data/EEGLAB/sub-010002_EO.fdt\n"
     ]
    },
    {
     "output_type": "stream",
     "name": "stderr",
     "text": [
      "<ipython-input-65-3d3d2b653366>:27: RuntimeWarning: Limited 1 annotation(s) that were expanding outside the data range.\n",
      "  eeglab_raw1 = mne.io.read_raw_eeglab(t1)\n",
      "<ipython-input-65-3d3d2b653366>:27: RuntimeWarning: The data contains 'boundary' events, indicating data discontinuities. Be cautious of filtering and epoching around these events.\n",
      "  eeglab_raw1 = mne.io.read_raw_eeglab(t1)\n",
      "<ipython-input-65-3d3d2b653366>:30: RuntimeWarning: Limited 1 annotation(s) that were expanding outside the data range.\n",
      "  eeglab_raw2 = mne.io.read_raw_eeglab(t2)\n",
      "<ipython-input-65-3d3d2b653366>:30: RuntimeWarning: The data contains 'boundary' events, indicating data discontinuities. Be cautious of filtering and epoching around these events.\n",
      "  eeglab_raw2 = mne.io.read_raw_eeglab(t2)\n"
     ]
    },
    {
     "output_type": "stream",
     "name": "stdout",
     "text": [
      "(59, 119345)\n",
      "(59, 117861)\n",
      "sub-010003_EC.set\n",
      "sub-010003_EO.set\n",
      "Reading /content/drive/My Drive/root/mne_data/MNE-testing-data/EEGLAB/sub-010003_EC.fdt\n",
      "Reading /content/drive/My Drive/root/mne_data/MNE-testing-data/EEGLAB/sub-010003_EO.fdt\n"
     ]
    },
    {
     "output_type": "stream",
     "name": "stderr",
     "text": [
      "<ipython-input-65-3d3d2b653366>:27: RuntimeWarning: Limited 1 annotation(s) that were expanding outside the data range.\n",
      "  eeglab_raw1 = mne.io.read_raw_eeglab(t1)\n",
      "<ipython-input-65-3d3d2b653366>:27: RuntimeWarning: The data contains 'boundary' events, indicating data discontinuities. Be cautious of filtering and epoching around these events.\n",
      "  eeglab_raw1 = mne.io.read_raw_eeglab(t1)\n",
      "<ipython-input-65-3d3d2b653366>:30: RuntimeWarning: Limited 1 annotation(s) that were expanding outside the data range.\n",
      "  eeglab_raw2 = mne.io.read_raw_eeglab(t2)\n",
      "<ipython-input-65-3d3d2b653366>:30: RuntimeWarning: The data contains 'boundary' events, indicating data discontinuities. Be cautious of filtering and epoching around these events.\n",
      "  eeglab_raw2 = mne.io.read_raw_eeglab(t2)\n"
     ]
    },
    {
     "output_type": "stream",
     "name": "stdout",
     "text": [
      "(60, 119516)\n",
      "(61, 120000)\n",
      "sub-010004_EO.set\n",
      "sub-010004_EC.set\n",
      "Reading /content/drive/My Drive/root/mne_data/MNE-testing-data/EEGLAB/sub-010004_EO.fdt\n",
      "Reading /content/drive/My Drive/root/mne_data/MNE-testing-data/EEGLAB/sub-010004_EC.fdt\n"
     ]
    },
    {
     "output_type": "stream",
     "name": "stderr",
     "text": [
      "<ipython-input-65-3d3d2b653366>:27: RuntimeWarning: Limited 1 annotation(s) that were expanding outside the data range.\n",
      "  eeglab_raw1 = mne.io.read_raw_eeglab(t1)\n",
      "<ipython-input-65-3d3d2b653366>:27: RuntimeWarning: The data contains 'boundary' events, indicating data discontinuities. Be cautious of filtering and epoching around these events.\n",
      "  eeglab_raw1 = mne.io.read_raw_eeglab(t1)\n",
      "<ipython-input-65-3d3d2b653366>:30: RuntimeWarning: Limited 1 annotation(s) that were expanding outside the data range.\n",
      "  eeglab_raw2 = mne.io.read_raw_eeglab(t2)\n",
      "<ipython-input-65-3d3d2b653366>:30: RuntimeWarning: The data contains 'boundary' events, indicating data discontinuities. Be cautious of filtering and epoching around these events.\n",
      "  eeglab_raw2 = mne.io.read_raw_eeglab(t2)\n"
     ]
    },
    {
     "output_type": "stream",
     "name": "stdout",
     "text": [
      "(61, 119749)\n",
      "(61, 119278)\n",
      "sub-010005_EO.set\n",
      "sub-010005_EC.set\n",
      "Reading /content/drive/My Drive/root/mne_data/MNE-testing-data/EEGLAB/sub-010005_EO.fdt\n",
      "Reading /content/drive/My Drive/root/mne_data/MNE-testing-data/EEGLAB/sub-010005_EC.fdt\n"
     ]
    },
    {
     "output_type": "stream",
     "name": "stderr",
     "text": [
      "<ipython-input-65-3d3d2b653366>:27: RuntimeWarning: Limited 1 annotation(s) that were expanding outside the data range.\n",
      "  eeglab_raw1 = mne.io.read_raw_eeglab(t1)\n",
      "<ipython-input-65-3d3d2b653366>:27: RuntimeWarning: The data contains 'boundary' events, indicating data discontinuities. Be cautious of filtering and epoching around these events.\n",
      "  eeglab_raw1 = mne.io.read_raw_eeglab(t1)\n",
      "<ipython-input-65-3d3d2b653366>:30: RuntimeWarning: Limited 1 annotation(s) that were expanding outside the data range.\n",
      "  eeglab_raw2 = mne.io.read_raw_eeglab(t2)\n",
      "<ipython-input-65-3d3d2b653366>:30: RuntimeWarning: The data contains 'boundary' events, indicating data discontinuities. Be cautious of filtering and epoching around these events.\n",
      "  eeglab_raw2 = mne.io.read_raw_eeglab(t2)\n"
     ]
    },
    {
     "output_type": "stream",
     "name": "stdout",
     "text": [
      "(61, 119822)\n",
      "(61, 120000)\n",
      "sub-010006_EO.set\n",
      "sub-010006_EC.set\n",
      "Reading /content/drive/My Drive/root/mne_data/MNE-testing-data/EEGLAB/sub-010006_EO.fdt\n",
      "Reading /content/drive/My Drive/root/mne_data/MNE-testing-data/EEGLAB/sub-010006_EC.fdt\n"
     ]
    },
    {
     "output_type": "stream",
     "name": "stderr",
     "text": [
      "<ipython-input-65-3d3d2b653366>:27: RuntimeWarning: Limited 1 annotation(s) that were expanding outside the data range.\n",
      "  eeglab_raw1 = mne.io.read_raw_eeglab(t1)\n",
      "<ipython-input-65-3d3d2b653366>:27: RuntimeWarning: The data contains 'boundary' events, indicating data discontinuities. Be cautious of filtering and epoching around these events.\n",
      "  eeglab_raw1 = mne.io.read_raw_eeglab(t1)\n",
      "<ipython-input-65-3d3d2b653366>:30: RuntimeWarning: Limited 1 annotation(s) that were expanding outside the data range.\n",
      "  eeglab_raw2 = mne.io.read_raw_eeglab(t2)\n",
      "<ipython-input-65-3d3d2b653366>:30: RuntimeWarning: The data contains 'boundary' events, indicating data discontinuities. Be cautious of filtering and epoching around these events.\n",
      "  eeglab_raw2 = mne.io.read_raw_eeglab(t2)\n"
     ]
    },
    {
     "output_type": "stream",
     "name": "stdout",
     "text": [
      "(61, 110271)\n",
      "(60, 116012)\n",
      "sub-010010_EO.set\n",
      "sub-010010_EC.set\n",
      "Reading /content/drive/My Drive/root/mne_data/MNE-testing-data/EEGLAB/sub-010010_EO.fdt\n",
      "Reading /content/drive/My Drive/root/mne_data/MNE-testing-data/EEGLAB/sub-010010_EC.fdt\n"
     ]
    },
    {
     "output_type": "stream",
     "name": "stderr",
     "text": [
      "<ipython-input-65-3d3d2b653366>:27: RuntimeWarning: Limited 1 annotation(s) that were expanding outside the data range.\n",
      "  eeglab_raw1 = mne.io.read_raw_eeglab(t1)\n",
      "<ipython-input-65-3d3d2b653366>:27: RuntimeWarning: The data contains 'boundary' events, indicating data discontinuities. Be cautious of filtering and epoching around these events.\n",
      "  eeglab_raw1 = mne.io.read_raw_eeglab(t1)\n",
      "<ipython-input-65-3d3d2b653366>:30: RuntimeWarning: Limited 1 annotation(s) that were expanding outside the data range.\n",
      "  eeglab_raw2 = mne.io.read_raw_eeglab(t2)\n",
      "<ipython-input-65-3d3d2b653366>:30: RuntimeWarning: The data contains 'boundary' events, indicating data discontinuities. Be cautious of filtering and epoching around these events.\n",
      "  eeglab_raw2 = mne.io.read_raw_eeglab(t2)\n"
     ]
    },
    {
     "output_type": "stream",
     "name": "stdout",
     "text": [
      "(59, 114917)\n",
      "(59, 119043)\n",
      "sub-010007_EO.set\n",
      "sub-010007_EC.set\n",
      "Reading /content/drive/My Drive/root/mne_data/MNE-testing-data/EEGLAB/sub-010007_EO.fdt\n",
      "Reading /content/drive/My Drive/root/mne_data/MNE-testing-data/EEGLAB/sub-010007_EC.fdt\n"
     ]
    },
    {
     "output_type": "stream",
     "name": "stderr",
     "text": [
      "<ipython-input-65-3d3d2b653366>:27: RuntimeWarning: Limited 1 annotation(s) that were expanding outside the data range.\n",
      "  eeglab_raw1 = mne.io.read_raw_eeglab(t1)\n",
      "<ipython-input-65-3d3d2b653366>:27: RuntimeWarning: The data contains 'boundary' events, indicating data discontinuities. Be cautious of filtering and epoching around these events.\n",
      "  eeglab_raw1 = mne.io.read_raw_eeglab(t1)\n",
      "<ipython-input-65-3d3d2b653366>:30: RuntimeWarning: Limited 1 annotation(s) that were expanding outside the data range.\n",
      "  eeglab_raw2 = mne.io.read_raw_eeglab(t2)\n",
      "<ipython-input-65-3d3d2b653366>:30: RuntimeWarning: The data contains 'boundary' events, indicating data discontinuities. Be cautious of filtering and epoching around these events.\n",
      "  eeglab_raw2 = mne.io.read_raw_eeglab(t2)\n"
     ]
    },
    {
     "output_type": "stream",
     "name": "stdout",
     "text": [
      "(57, 119036)\n",
      "(57, 119980)\n"
     ]
    }
   ]
  }
 ]
}